{
  "nbformat": 4,
  "nbformat_minor": 0,
  "metadata": {
    "colab": {
      "name": "Class_Obj_OOP_Python_for_ML_DL.ipynb",
      "provenance": [],
      "collapsed_sections": []
    },
    "kernelspec": {
      "name": "python3",
      "display_name": "Python 3"
    },
    "language_info": {
      "name": "python"
    }
  },
  "cells": [
    {
      "cell_type": "code",
      "source": [
        "import numpy as np"
      ],
      "metadata": {
        "id": "dx8h02EFJBXW"
      },
      "execution_count": 2,
      "outputs": []
    },
    {
      "cell_type": "code",
      "source": [
        "class Sequential:\n",
        "  def __init__(self, model_name):\n",
        "    self.model=model_name\n",
        "    print(self.model)\n",
        "    \n",
        "  def mul(self,name, X,Y):\n",
        "    mul=np.dot(np.transpose(X),Y)\n",
        "    self.model=name\n",
        "    return self.model\n",
        "\n",
        "\n",
        "\n",
        "\n",
        "\n",
        "\n",
        "\n",
        "\n",
        "\n",
        "if __name__==\"__main__\":\n",
        "  X=np.array([[1,2],[3,4], [5,6]])\n",
        "  Y=np.array([1,1,1])\n",
        "  #mul=np.dot(np.transpose(X), Y)\n",
        "  model=Sequential(\"model_1\")\n",
        "  print(model.mul( \"XYZ\", X,Y))\n",
        "  print(model.model)\n",
        "  #print(model.model)\n",
        "  model2=Sequential(\"model_2\")\n",
        "  print(model2.mul(\"No_name\", X,Y))\n",
        "  print(model2.model)\n"
      ],
      "metadata": {
        "colab": {
          "base_uri": "https://localhost:8080/"
        },
        "id": "e6_Nq8xsrUCd",
        "outputId": "243c8d7c-88bf-436f-d32e-2ff3c426c9e2"
      },
      "execution_count": 31,
      "outputs": [
        {
          "output_type": "stream",
          "name": "stdout",
          "text": [
            "model_1\n",
            "XYZ\n",
            "XYZ\n",
            "model_2\n",
            "No_name\n",
            "No_name\n"
          ]
        }
      ]
    },
    {
      "cell_type": "code",
      "source": [
        "import tensorflow\n",
        "from tensorflow.keras.models import Sequential\n",
        "from tensorflow.keras.layers import Dense, Activation"
      ],
      "metadata": {
        "id": "82fn3UZ8J-_l"
      },
      "execution_count": 19,
      "outputs": []
    },
    {
      "cell_type": "code",
      "source": [
        "model=Sequential()\n",
        "model.add(Dense(12, input_dim= 10, activation='relu' ))\n",
        "model.add(Dense(1, activation='sigmoid'))"
      ],
      "metadata": {
        "id": "f6AKvgFzQ_Wf"
      },
      "execution_count": 20,
      "outputs": []
    },
    {
      "cell_type": "code",
      "source": [
        "model.summary()"
      ],
      "metadata": {
        "colab": {
          "base_uri": "https://localhost:8080/"
        },
        "id": "9ZdMgSJbRgN-",
        "outputId": "2086e63f-ca3d-49f5-8371-c1f946f646e6"
      },
      "execution_count": 22,
      "outputs": [
        {
          "output_type": "stream",
          "name": "stdout",
          "text": [
            "Model: \"sequential\"\n",
            "_________________________________________________________________\n",
            " Layer (type)                Output Shape              Param #   \n",
            "=================================================================\n",
            " dense (Dense)               (None, 12)                132       \n",
            "                                                                 \n",
            " dense_1 (Dense)             (None, 1)                 13        \n",
            "                                                                 \n",
            "=================================================================\n",
            "Total params: 145\n",
            "Trainable params: 145\n",
            "Non-trainable params: 0\n",
            "_________________________________________________________________\n"
          ]
        }
      ]
    },
    {
      "cell_type": "code",
      "source": [
        "type(model)"
      ],
      "metadata": {
        "colab": {
          "base_uri": "https://localhost:8080/"
        },
        "id": "3HIVB548Rh8h",
        "outputId": "2e3ebc0d-9507-46da-f28a-b1e54cc63156"
      },
      "execution_count": 23,
      "outputs": [
        {
          "output_type": "execute_result",
          "data": {
            "text/plain": [
              "keras.engine.sequential.Sequential"
            ]
          },
          "metadata": {},
          "execution_count": 23
        }
      ]
    },
    {
      "cell_type": "code",
      "source": [
        ""
      ],
      "metadata": {
        "id": "2F6i7a9pRt95"
      },
      "execution_count": null,
      "outputs": []
    },
    {
      "cell_type": "code",
      "source": [
        ""
      ],
      "metadata": {
        "id": "jIKRQwxiKBQ3"
      },
      "execution_count": null,
      "outputs": []
    },
    {
      "cell_type": "code",
      "source": [
        ""
      ],
      "metadata": {
        "id": "37MuqwfyKBTC"
      },
      "execution_count": null,
      "outputs": []
    },
    {
      "cell_type": "code",
      "source": [
        ""
      ],
      "metadata": {
        "id": "68YL9FPcKBWH"
      },
      "execution_count": null,
      "outputs": []
    },
    {
      "cell_type": "code",
      "source": [
        "class Student:\n",
        "  def __init__(self, name, age, grade):\n",
        "    self.name=name\n",
        "    self.age=age\n",
        "    self.grade=grade\n",
        "  def get_grade(self):\n",
        "    return self.grade\n",
        "class Course:\n",
        "  def __init__(self, name, max_students):\n",
        "    self.name=name\n",
        "    self.max_students=max_students\n",
        "    self.students=[]\n",
        "  def add(self, student):\n",
        "    if len(self.students)<self.max_students:\n",
        "      self.students.append(student)\n",
        "s1=Student(\"S1\", 12, 10)\n",
        "s2=Student(\"S2\", 13, 9)\n",
        "C1=Course(\"Science\", 2)\n",
        "C2=Course(\"Arts\", 2)\n",
        "C1.add(s1)\n",
        "C2.add(s2)"
      ],
      "metadata": {
        "id": "X6rsPngmKBas"
      },
      "execution_count": 1,
      "outputs": []
    },
    {
      "cell_type": "code",
      "source": [
        "C2.students[0].name"
      ],
      "metadata": {
        "colab": {
          "base_uri": "https://localhost:8080/",
          "height": 34
        },
        "id": "YeysZx6YNkbc",
        "outputId": "914f89b5-cd3d-4267-b0fc-c3e1a7f6c90f"
      },
      "execution_count": 17,
      "outputs": [
        {
          "output_type": "execute_result",
          "data": {
            "application/vnd.google.colaboratory.intrinsic+json": {
              "type": "string"
            },
            "text/plain": [
              "'S2'"
            ]
          },
          "metadata": {},
          "execution_count": 17
        }
      ]
    },
    {
      "cell_type": "code",
      "source": [
        ""
      ],
      "metadata": {
        "id": "K-ArXoXfNpHz"
      },
      "execution_count": null,
      "outputs": []
    },
    {
      "cell_type": "code",
      "source": [
        ""
      ],
      "metadata": {
        "id": "Deg6uuBEP61L"
      },
      "execution_count": null,
      "outputs": []
    },
    {
      "cell_type": "code",
      "source": [
        ""
      ],
      "metadata": {
        "id": "W3tnvPaqP63t"
      },
      "execution_count": null,
      "outputs": []
    },
    {
      "cell_type": "code",
      "source": [
        ""
      ],
      "metadata": {
        "id": "6ygeodVhP66W"
      },
      "execution_count": null,
      "outputs": []
    },
    {
      "cell_type": "code",
      "source": [
        "class X:\n",
        "  def __init__(self, num):\n",
        "    self.num=num\n",
        "  def add (self):\n",
        "    return self.num+self.num\n",
        "class Y:\n",
        "  def __init__(self, num1):\n",
        "    self.num1=num1\n",
        "    self.list_1=[]\n",
        "  def func(self, num2):\n",
        "    print(num2.add())\n",
        "    #print(self.num1)\n",
        " "
      ],
      "metadata": {
        "id": "1z8dOq_kP68V"
      },
      "execution_count": 45,
      "outputs": []
    },
    {
      "cell_type": "code",
      "source": [
        "if __name__==\"__main__\":\n",
        "  a=X(2)\n",
        "  b=Y(5)\n",
        "  \n"
      ],
      "metadata": {
        "id": "0jSX6I1GP6-Z"
      },
      "execution_count": 46,
      "outputs": []
    },
    {
      "cell_type": "code",
      "source": [
        "a.add()"
      ],
      "metadata": {
        "colab": {
          "base_uri": "https://localhost:8080/"
        },
        "id": "TIVd2XJ8P7At",
        "outputId": "f05dce5c-faa8-43f5-84f4-daac7cbbaeaa"
      },
      "execution_count": 47,
      "outputs": [
        {
          "output_type": "execute_result",
          "data": {
            "text/plain": [
              "4"
            ]
          },
          "metadata": {},
          "execution_count": 47
        }
      ]
    },
    {
      "cell_type": "code",
      "source": [
        "b.num1"
      ],
      "metadata": {
        "colab": {
          "base_uri": "https://localhost:8080/"
        },
        "id": "CuvYM9nwRy0G",
        "outputId": "772a3233-49f2-4012-c3fa-8d3cda5acd8c"
      },
      "execution_count": 48,
      "outputs": [
        {
          "output_type": "execute_result",
          "data": {
            "text/plain": [
              "5"
            ]
          },
          "metadata": {},
          "execution_count": 48
        }
      ]
    },
    {
      "cell_type": "code",
      "source": [
        "b.func(a)"
      ],
      "metadata": {
        "colab": {
          "base_uri": "https://localhost:8080/"
        },
        "id": "ebtpWI_1P7QR",
        "outputId": "20c7ac1c-52a0-4a27-fc28-36a06351901c"
      },
      "execution_count": 49,
      "outputs": [
        {
          "output_type": "stream",
          "name": "stdout",
          "text": [
            "4\n"
          ]
        }
      ]
    },
    {
      "cell_type": "code",
      "source": [
        "b.list_1[0]"
      ],
      "metadata": {
        "colab": {
          "base_uri": "https://localhost:8080/"
        },
        "id": "LDajLVQ0P7S_",
        "outputId": "8c2e13ee-2805-4a23-dcca-15d7e85d4192"
      },
      "execution_count": 40,
      "outputs": [
        {
          "output_type": "execute_result",
          "data": {
            "text/plain": [
              "2"
            ]
          },
          "metadata": {},
          "execution_count": 40
        }
      ]
    },
    {
      "cell_type": "code",
      "source": [
        ""
      ],
      "metadata": {
        "id": "fQar2P1TP7WO"
      },
      "execution_count": null,
      "outputs": []
    },
    {
      "cell_type": "code",
      "source": [
        ""
      ],
      "metadata": {
        "id": "I02y_b9dVS1_"
      },
      "execution_count": null,
      "outputs": []
    },
    {
      "cell_type": "code",
      "source": [
        ""
      ],
      "metadata": {
        "id": "LszGc5oxVS4q"
      },
      "execution_count": null,
      "outputs": []
    },
    {
      "cell_type": "code",
      "source": [
        ""
      ],
      "metadata": {
        "id": "WCyTzDwsVS6s"
      },
      "execution_count": null,
      "outputs": []
    },
    {
      "cell_type": "code",
      "source": [
        ""
      ],
      "metadata": {
        "id": "G46pRfzSVS9i"
      },
      "execution_count": null,
      "outputs": []
    },
    {
      "cell_type": "code",
      "source": [
        ""
      ],
      "metadata": {
        "id": "l06FMAJiVTAG"
      },
      "execution_count": null,
      "outputs": []
    },
    {
      "cell_type": "code",
      "source": [
        ""
      ],
      "metadata": {
        "id": "m5J6QkaOVTCi"
      },
      "execution_count": null,
      "outputs": []
    },
    {
      "cell_type": "code",
      "source": [
        ""
      ],
      "metadata": {
        "id": "UrJpiOmhP7ZB"
      },
      "execution_count": null,
      "outputs": []
    },
    {
      "cell_type": "code",
      "source": [
        "class Common:\n",
        "   class_attribute=0\n",
        "   def __init__(self, name, age):\n",
        "     self.name=name\n",
        "     self.age=age\n",
        "   def show(self):\n",
        "     print(f\"the name is {self.name} and age is {self.age}\")\n",
        "class dog(Common):\n",
        "   def __init__(self, name, age, color):\n",
        "     super().__init__(name, age)\n",
        "     self.color=color\n",
        "     #print(\"Hi\")\n",
        "class cat(Common):\n",
        "    def fuc(self):\n",
        "      print(\"Hellow\")\n",
        "  "
      ],
      "metadata": {
        "id": "UyArGpciP7cH"
      },
      "execution_count": 116,
      "outputs": []
    },
    {
      "cell_type": "code",
      "source": [
        ""
      ],
      "metadata": {
        "id": "HC63p_ip7UoE"
      },
      "execution_count": null,
      "outputs": []
    },
    {
      "cell_type": "code",
      "source": [
        "if __name__==\"__main__\":\n",
        "  c=dog(\"xy\",2,\"r\")\n",
        "  c.class_attribute\n"
      ],
      "metadata": {
        "id": "pbn_Z5Ax2SVx"
      },
      "execution_count": 117,
      "outputs": []
    },
    {
      "cell_type": "code",
      "source": [
        "c.class_attribute"
      ],
      "metadata": {
        "colab": {
          "base_uri": "https://localhost:8080/"
        },
        "id": "yZ6DM9HJ2SYn",
        "outputId": "38fd714c-a6f8-4097-e97f-40cc5cde9b1b"
      },
      "execution_count": 120,
      "outputs": [
        {
          "output_type": "execute_result",
          "data": {
            "text/plain": [
              "0"
            ]
          },
          "metadata": {},
          "execution_count": 120
        }
      ]
    },
    {
      "cell_type": "code",
      "source": [
        "#Class attribute"
      ],
      "metadata": {
        "id": "zHsuLtas7wuS"
      },
      "execution_count": null,
      "outputs": []
    },
    {
      "cell_type": "code",
      "source": [
        "Common.class_attribute"
      ],
      "metadata": {
        "colab": {
          "base_uri": "https://localhost:8080/"
        },
        "id": "9fKgo6ss7baM",
        "outputId": "dc0d711c-0764-410c-8af4-3cb8761d220a"
      },
      "execution_count": 121,
      "outputs": [
        {
          "output_type": "execute_result",
          "data": {
            "text/plain": [
              "0"
            ]
          },
          "metadata": {},
          "execution_count": 121
        }
      ]
    },
    {
      "cell_type": "code",
      "source": [
        "D=cat(\"xyz\", 12)"
      ],
      "metadata": {
        "id": "JIK9HepxfAot"
      },
      "execution_count": 104,
      "outputs": []
    },
    {
      "cell_type": "code",
      "source": [
        "D.fuc()"
      ],
      "metadata": {
        "colab": {
          "base_uri": "https://localhost:8080/"
        },
        "id": "lqnXmSfsfqWC",
        "outputId": "0d984884-1ea7-47c8-fa74-5e665d7e662c"
      },
      "execution_count": 105,
      "outputs": [
        {
          "output_type": "stream",
          "name": "stdout",
          "text": [
            "Hellow\n"
          ]
        }
      ]
    },
    {
      "cell_type": "code",
      "source": [
        "D.show()"
      ],
      "metadata": {
        "colab": {
          "base_uri": "https://localhost:8080/"
        },
        "id": "PnotDuYpfGrU",
        "outputId": "ffbd47bb-aaca-47e1-fe2a-64f3a070c8c8"
      },
      "execution_count": 96,
      "outputs": [
        {
          "output_type": "stream",
          "name": "stdout",
          "text": [
            "the name is xyz and age is 12\n"
          ]
        }
      ]
    },
    {
      "cell_type": "code",
      "source": [
        ""
      ],
      "metadata": {
        "id": "tY4iq25nfSM0"
      },
      "execution_count": null,
      "outputs": []
    },
    {
      "cell_type": "code",
      "source": [
        "class ABC:\n",
        "  @staticmethod\n",
        "  def add(x):\n",
        "    return x+x\n",
        "print(ABC.add(5))"
      ],
      "metadata": {
        "colab": {
          "base_uri": "https://localhost:8080/"
        },
        "id": "-XF_80sd1Gow",
        "outputId": "cba40fd0-33c7-4488-a2ab-8c88a1371e69"
      },
      "execution_count": 122,
      "outputs": [
        {
          "output_type": "stream",
          "name": "stdout",
          "text": [
            "10\n"
          ]
        }
      ]
    },
    {
      "cell_type": "code",
      "source": [
        ""
      ],
      "metadata": {
        "id": "7XA4vY-V1Gra"
      },
      "execution_count": null,
      "outputs": []
    },
    {
      "cell_type": "code",
      "source": [
        "super().__init__(name, age)"
      ],
      "metadata": {
        "id": "QxOFVqAQ1Gvo"
      },
      "execution_count": null,
      "outputs": []
    }
  ]
}